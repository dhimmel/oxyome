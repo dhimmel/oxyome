{
 "cells": [
  {
   "cell_type": "code",
   "execution_count": 1,
   "metadata": {
    "collapsed": false
   },
   "outputs": [],
   "source": [
    "import os\n",
    "import csv\n",
    "import collections\n",
    "import gzip\n",
    "import itertools\n",
    "import warnings\n",
    "import re\n",
    "import sys\n",
    "import multiprocessing"
   ]
  },
  {
   "cell_type": "code",
   "execution_count": 2,
   "metadata": {
    "collapsed": false
   },
   "outputs": [],
   "source": [
    "project_dir = '/home/dhimmels/Dropbox/lung/followup/interactome/'\n",
    "ii_directory = os.path.join(project_dir, 'incomplete-interactome')\n",
    "ii_source_dir = os.path.join(ii_directory, 'source')\n",
    "\n",
    "sys.path.append(ii_source_dir)\n",
    "import separation"
   ]
  },
  {
   "cell_type": "code",
   "execution_count": 3,
   "metadata": {
    "collapsed": false
   },
   "outputs": [],
   "source": [
    "def read_graph(path):\n",
    "    \"\"\" \"\"\"\n",
    "    graph = separation.read_network(path)\n",
    "    separation.remove_self_links(graph)\n",
    "    return graph"
   ]
  },
  {
   "cell_type": "code",
   "execution_count": 4,
   "metadata": {
    "collapsed": false
   },
   "outputs": [
    {
     "name": "stdout",
     "output_type": "stream",
     "text": [
      "\n",
      "> done loading network:\n",
      "> network contains 13460 nodes and 141296 links\n"
     ]
    }
   ],
   "source": [
    "path_interactome = os.path.join(ii_directory, 'data-supplement', 'DataS1_interactome.tsv')\n",
    "interactome = read_graph(path_interactome)\n",
    "interactome_genes = set(interactome.nodes())"
   ]
  },
  {
   "cell_type": "code",
   "execution_count": 5,
   "metadata": {
    "collapsed": false
   },
   "outputs": [],
   "source": [
    "def read_ii_tsv(path):\n",
    "    read_file = open(path)\n",
    "    for line in read_file:\n",
    "        if line.startswith('#'):\n",
    "            fieldnames = line.lstrip('#').split('\\t')\n",
    "            fieldnames = map(str.strip, fieldnames)\n",
    "        else:\n",
    "            row = line.rstrip().split('\\t')\n",
    "            yield collections.OrderedDict(zip(fieldnames, row))\n",
    "    read_file.close()"
   ]
  },
  {
   "cell_type": "code",
   "execution_count": 6,
   "metadata": {
    "collapsed": false
   },
   "outputs": [],
   "source": [
    "disease_genes = dict()\n",
    "path = os.path.join(ii_directory, 'data-supplement', 'DataS2_disease_genes.tsv')\n",
    "for disease in read_ii_tsv(path):\n",
    "    omim = set(disease['OMIM_genes'].split(';') if disease.get('OMIM_genes') else [])\n",
    "    gwas = set(disease['GWAS_genes'].split(';') if disease.get('GWAS_genes') else [])\n",
    "    \n",
    "    omim &= interactome_genes\n",
    "    gwas &= interactome_genes\n",
    "\n",
    "    name = disease['disease']\n",
    "    disease_genes[name] = {'omim': omim, 'gwas': gwas, 'all': omim | gwas}"
   ]
  },
  {
   "cell_type": "code",
   "execution_count": 7,
   "metadata": {
    "collapsed": false
   },
   "outputs": [],
   "source": [
    "# Read GO annotations\n",
    "def read_go_annotations(path):\n",
    "    read_file = open(path)\n",
    "    reader = csv.DictReader(read_file, delimiter='\\t')\n",
    "    for row in reader:\n",
    "        row['genes'] = set(row['genes'].split(';'))\n",
    "        yield row\n",
    "    read_file.close()"
   ]
  },
  {
   "cell_type": "code",
   "execution_count": 8,
   "metadata": {
    "collapsed": false
   },
   "outputs": [
    {
     "data": {
      "text/plain": [
       "8269"
      ]
     },
     "execution_count": 8,
     "metadata": {},
     "output_type": "execute_result"
    }
   ],
   "source": [
    "go_path = os.path.join(project_dir, 'gene-ontology', 'human-annotations-prop.tsv')\n",
    "term_to_annotation = dict()\n",
    "for row in read_go_annotations(go_path):\n",
    "    row['genes'] &= interactome_genes\n",
    "    size = len(row['genes'])\n",
    "    if size < 5 or size > 200:\n",
    "        continue\n",
    "    term_to_annotation[row['go_id']] = row\n",
    "\n",
    "len(term_to_annotation)"
   ]
  },
  {
   "cell_type": "code",
   "execution_count": 9,
   "metadata": {
    "collapsed": false
   },
   "outputs": [],
   "source": [
    "def calculate_quantities(graph, genes_A, genes_B):\n",
    "    \"\"\" \"\"\"\n",
    "    all_genes_in_network = set(graph.nodes())\n",
    "    genes_A &= all_genes_in_network\n",
    "    genes_B &= all_genes_in_network\n",
    "\n",
    "    results = dict()\n",
    "    results['size_A'] = len(genes_A)\n",
    "    results['size_B'] = len(genes_B)\n",
    "\n",
    "    results['distance_A'] = separation.calc_single_set_distance(graph, genes_A)\n",
    "    results['distance_B'] = separation.calc_single_set_distance(graph, genes_B)\n",
    "\n",
    "    results['distance_AB'] = separation.calc_set_pair_distances(graph, genes_A, genes_B)\n",
    "    results['separation_AB'] = results['distance_AB'] - (results['distance_A'] + results['distance_B']) / 2.0\n",
    "\n",
    "    return results\n",
    "\n",
    "def compute_results(args):\n",
    "    \"\"\" \"\"\"\n",
    "    disease, go_id, association_type = args\n",
    "    genes_A = disease_genes[disease][association_type]\n",
    "    genes_B = term_to_annotation[go_id]['genes']\n",
    "    \n",
    "    results = calculate_quantities(interactome, genes_A, genes_B)\n",
    "\n",
    "    results['disease'] = disease\n",
    "    results['association_type'] = association_type\n",
    "    \n",
    "    results['go_id'] = go_id\n",
    "    results['go_term'] = term_to_annotation[go_id]['go_term']\n",
    "    results['go_domain'] = term_to_annotation[go_id]['go_domain']\n",
    "\n",
    "    return results"
   ]
  },
  {
   "cell_type": "code",
   "execution_count": 10,
   "metadata": {
    "collapsed": false
   },
   "outputs": [],
   "source": [
    "diseases = set(disease_genes)\n",
    "go_terms = set(term_to_annotation)\n",
    "association_types = 'omim', 'gwas', 'all'\n",
    "\n",
    "def generate_parameters(min_disease_size = 5, max_disease_size = 250, min_go_size = 5, max_go_size = 250):\n",
    "    for disease, go_id, association_type in itertools.product(diseases, go_terms, association_types):\n",
    "        disease_size = len(disease_genes[disease][association_type])\n",
    "        go_size = len(term_to_annotation[go_id]['genes'])\n",
    "        if min_disease_size > disease_size:\n",
    "            continue\n",
    "        if max_disease_size < disease_size:\n",
    "            continue\n",
    "        if min_go_size > go_size:\n",
    "            continue\n",
    "        if max_go_size < go_size:\n",
    "            continue\n",
    "        yield disease, go_id, association_type\n",
    "\n",
    "parameters = generate_parameters()"
   ]
  },
  {
   "cell_type": "code",
   "execution_count": 11,
   "metadata": {
    "collapsed": false
   },
   "outputs": [],
   "source": [
    "#warnings.filterwarnings('ignore')\n",
    "\n",
    "results_fields = ['disease', 'association_type', 'go_id', 'go_term', 'go_domain',\n",
    "                  'size_A', 'size_B', 'distance_A', 'distance_B', 'distance_AB', 'separation_AB']\n",
    "results_path = os.path.join(project_dir, 'data', 'disease-go-pairs.tsv.gz')\n",
    "results_file = gzip.open(results_path, 'w')\n",
    "result_writer = csv.DictWriter(results_file, delimiter = '\\t', fieldnames = results_fields)\n",
    "result_writer.writeheader()\n",
    "\n",
    "pool = multiprocessing.Pool(processes = 7)\n",
    "result_generator = pool.imap_unordered(compute_results, parameters, chunksize = 500)\n",
    "for result in result_generator:\n",
    "    result_writer.writerow(result)\n",
    "results_file.close()"
   ]
  }
 ],
 "metadata": {
  "kernelspec": {
   "display_name": "Python 2",
   "language": "python",
   "name": "python2"
  },
  "language_info": {
   "codemirror_mode": {
    "name": "ipython",
    "version": 2
   },
   "file_extension": ".py",
   "mimetype": "text/x-python",
   "name": "python",
   "nbconvert_exporter": "python",
   "pygments_lexer": "ipython2",
   "version": "2.7.6"
  }
 },
 "nbformat": 4,
 "nbformat_minor": 0
}
