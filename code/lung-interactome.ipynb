{
 "metadata": {
  "name": "",
  "signature": "sha256:0544946f2bc7735d7a9093ab8f11d84674f437d0bd712a639a5ec7fac5cb2b75"
 },
 "nbformat": 3,
 "nbformat_minor": 0,
 "worksheets": [
  {
   "cells": [
    {
     "cell_type": "code",
     "collapsed": false,
     "input": [
      "import os\n",
      "import csv\n",
      "import collections\n",
      "import gzip\n",
      "import itertools\n",
      "import re"
     ],
     "language": "python",
     "metadata": {},
     "outputs": [],
     "prompt_number": 90
    },
    {
     "cell_type": "code",
     "collapsed": false,
     "input": [],
     "language": "python",
     "metadata": {},
     "outputs": [],
     "prompt_number": 6
    },
    {
     "cell_type": "code",
     "collapsed": false,
     "input": [
      "def read_ii_tsv(path):\n",
      "    read_file = open(path)\n",
      "    for line in read_file:\n",
      "        if line.startswith('#'):\n",
      "            fieldnames = line.lstrip('#').split('\\t')\n",
      "            fieldnames = map(str.strip, fieldnames)\n",
      "        else:\n",
      "            row = line.rstrip().split('\\t')\n",
      "            yield collections.OrderedDict(zip(fieldnames, row))\n",
      "    read_file.close()"
     ],
     "language": "python",
     "metadata": {},
     "outputs": [],
     "prompt_number": 61
    },
    {
     "cell_type": "code",
     "collapsed": false,
     "input": [
      "project_dir = '/home/dhimmels/Dropbox/lung/followup/interactome/'\n",
      "ii_directory = os.path.join(project_dir, 'incomplete-interactome')\n",
      "\n"
     ],
     "language": "python",
     "metadata": {},
     "outputs": [],
     "prompt_number": 66
    },
    {
     "cell_type": "code",
     "collapsed": false,
     "input": [],
     "language": "python",
     "metadata": {},
     "outputs": [],
     "prompt_number": 63
    },
    {
     "cell_type": "code",
     "collapsed": false,
     "input": [
      "path = os.path.join(ii_directory, 'data-supplement', 'DataS2_disease_genes.tsv')\n",
      "for disease in read_ii_tsv(path):\n",
      "    name = disease['disease']\n",
      "    omim = disease['OMIM_genes'].split(';') if disease.get('OMIM_genes') else []\n",
      "    gwas = disease['GWAS_genes'].split(';') if disease.get('GWAS_genes') else []\n",
      "\n",
      "    filename = '{}.txt'.format(name)\n",
      "\n",
      "    path = os.path.join(ii_directory, 'disease-genes', 'omim', filename)\n",
      "    with open(path, 'w') as write_file:\n",
      "        write_file.write('\\n'.join(omim))\n",
      "    \n",
      "    path = os.path.join(ii_directory, 'disease-genes', 'gwas', filename)\n",
      "    with open(path, 'w') as write_file:\n",
      "        write_file.write('\\n'.join(gwas))\n",
      "\n",
      "    path = os.path.join(ii_directory, 'disease-genes', 'all', filename)\n",
      "    with open(path, 'w') as write_file:\n",
      "        write_file.write('\\n'.join(set(omim) | set(gwas)))"
     ],
     "language": "python",
     "metadata": {},
     "outputs": [],
     "prompt_number": 65
    },
    {
     "cell_type": "code",
     "collapsed": false,
     "input": [
      "# Read Entrez Gene GO annotations\n",
      "# Download at ftp://ftp.ncbi.nih.gov/gene/DATA/gene2go.gz\n",
      "go_path = os.path.join(project_dir, 'gene-ontology', 'gene2go.gz')\n",
      "go_fields = 'tax_id', 'GeneID', 'GO_ID', 'Evidence', 'Qualifier', 'GO_term', 'PubMed', 'Category'\n",
      "with gzip.open(go_path) as read_file:\n",
      "    reader = csv.DictReader(read_file, delimiter='\\t', fieldnames = go_fields)\n",
      "    go_rows = [row for row in reader if row['tax_id'] == '9606']\n",
      "\n",
      "go_id_to_row = {a['GO_ID']: a for a in go_rows}\n",
      "\n",
      "go_rows[0]"
     ],
     "language": "python",
     "metadata": {},
     "outputs": [
      {
       "metadata": {},
       "output_type": "pyout",
       "prompt_number": 137,
       "text": [
        "{'Category': 'Function',\n",
        " 'Evidence': 'ND',\n",
        " 'GO_ID': 'GO:0003674',\n",
        " 'GO_term': 'molecular_function',\n",
        " 'GeneID': '1',\n",
        " 'PubMed': '-',\n",
        " 'Qualifier': '-',\n",
        " 'tax_id': '9606'}"
       ]
      }
     ],
     "prompt_number": 137
    },
    {
     "cell_type": "code",
     "collapsed": false,
     "input": [
      "goterm_to_genes = dict()\n",
      "for annotation in go_rows:\n",
      "    goterm_to_genes.setdefault(annotation['GO_ID'], set()).add(annotation['GeneID'])\n",
      "len(goterm_to_genes)"
     ],
     "language": "python",
     "metadata": {},
     "outputs": [
      {
       "metadata": {},
       "output_type": "pyout",
       "prompt_number": 78,
       "text": [
        "15202"
       ]
      }
     ],
     "prompt_number": 78
    },
    {
     "cell_type": "code",
     "collapsed": false,
     "input": [
      "sum(len(genes) > 25 for genes in goterm_to_genes.values())"
     ],
     "language": "python",
     "metadata": {},
     "outputs": [
      {
       "metadata": {},
       "output_type": "pyout",
       "prompt_number": 80,
       "text": [
        "1355"
       ]
      }
     ],
     "prompt_number": 80
    },
    {
     "cell_type": "code",
     "collapsed": false,
     "input": [
      "diseases = 'lung neoplasms', 'breast neoplasms', 'colorectal neoplasms', 'prostatic neoplasms'\n",
      "go_ids = 'GO:0072593', 'GO:0000302', 'GO:0034614', 'GO:2000377'\n",
      "for go_id in go_ids:\n",
      "    print go_id, goterm_to_genes[go_id]"
     ],
     "language": "python",
     "metadata": {},
     "outputs": [
      {
       "output_type": "stream",
       "stream": "stdout",
       "text": [
        "GO:0072593 set(['23530', '29949', '596', '664', '5155', '316', '3491', '239', '91942', '5076', '93974', '1816', '4724', '6647', '4722', '27165', '55312', '120892', '5166', '54541', '2053', '5027', '1490', '4358', '22925', '6441', '10549', '5366', '255027', '4719', '7409', '51079', '50507'])\n",
        "GO:0000302 set(['1263', '5034', '5052', '7295', '2882', '6648', '6649', '6647', '25824', '347', '9973', '10587', '343', '10935', '348', '25828', '54205', '2877', '2876', '7296', '30001', '2936', '2878', '493869', '7001', '9588', '2950', '8692', '847', '6278', '3373', '475', '538', '5798'])\n",
        "GO:0034614 set(['1421', '6546', '7168', '5164', '695', '5829', '5311', '116988', '140823', '5796', '25824', '4358', '133522', '10935', '2353', '8644', '2241'])\n",
        "GO:2000377 set(['2309', '2308', '55486', '1545', '5165', '8870', '2305', '5547', '9474', '378', '6885', '4358', '11334', '65018', '83875', '9263', '329', '55022', '5071', '10193'])\n"
       ]
      }
     ],
     "prompt_number": 133
    },
    {
     "cell_type": "code",
     "collapsed": false,
     "input": [
      "def get_go_path(go_id):\n",
      "    filename = '{}.txt'.format(go_id.replace(':', '_'))\n",
      "    return os.path.join(project_dir, 'gene-ontology', 'annotations', filename)\n",
      "\n",
      "for go_id in go_ids:\n",
      "    genes = goterm_to_genes[go_id]\n",
      "    path = get_go_path(go_id)\n",
      "    with open(path, 'w') as write_file:\n",
      "        write_file.write('\\n'.join(genes))"
     ],
     "language": "python",
     "metadata": {},
     "outputs": [],
     "prompt_number": 134
    },
    {
     "cell_type": "code",
     "collapsed": false,
     "input": [
      "path_interactome = os.path.join(ii_directory, 'data-supplement', 'DataS1_interactome.tsv')\n",
      "path_separation_py = os.path.join(ii_directory, 'source', 'separation.py')\n",
      "\n",
      "results_fields = 'disease', 'go_id', 'go_term', 'go_domain', 'size_A', 'size_B', 'diameter_A', 'diameter_B', 'diameter_AB', 'separation_AB'\n",
      "results_file = open(os.path.join(project_dir, 'disease-go-pairs.tsv'), 'w')\n",
      "result_writer = csv.DictWriter(results_file, delimiter = '\\t', fieldnames = results_fields)\n",
      "result_writer.writeheader()\n",
      "\n",
      "for disease, go_id in itertools.product(diseases, go_ids):\n",
      "    path_disease = os.path.join(ii_directory, 'disease-genes', 'all', '{}.txt'.format(disease))\n",
      "    path_go = get_go_path(go_id)\n",
      "    \n",
      "    filename = '{}--{}.txt'.format(disease, go_id.replace(':', '_'))\n",
      "    output_path = os.path.join(project_dir, 'separations', filename)\n",
      "\n",
      "    !python '$path_separation_py' -n '$path_interactome' --g1 '$path_disease' --g2 $path_go -o '$output_path'\n",
      "    \n",
      "    results = parse_separation_output(output_path)\n",
      "    results['go_id'] = go_id\n",
      "    results['go_term'] = go_id_to_row[go_id]['GO_term']\n",
      "    results['go_domain'] = go_id_to_row[go_id]['Category']\n",
      "    results['disease'] = disease\n",
      "    result_writer.writerow(results)\n",
      "\n",
      "results_file.close()"
     ],
     "language": "python",
     "metadata": {},
     "outputs": [
      {
       "output_type": "stream",
       "stream": "stdout",
       "text": [
        "\r\n",
        "> done loading network:\r\n"
       ]
      },
      {
       "output_type": "stream",
       "stream": "stdout",
       "text": [
        "> network contains 13460 nodes and 141296 links\r\n",
        "\r\n",
        "> done reading genes:\r\n",
        "> 24 genes found in /home/dhimmels/Dropbox/lung/followup/interactome/incomplete-interactome/disease-genes/all/lung neoplasms.txt\r\n",
        "> ignoring 6 genes that are not in the network\r\n",
        "> remaining number of genes: 18\r\n",
        "\r\n",
        "> done reading genes:\r\n",
        "> 33 genes found in /home/dhimmels/Dropbox/lung/followup/interactome/gene-ontology/annotations/GO_0072593.txt\r\n",
        "> ignoring 2 genes that are not in the network\r\n",
        "> remaining number of genes: 31\r\n"
       ]
      },
      {
       "output_type": "stream",
       "stream": "stdout",
       "text": [
        "\r\n",
        "> gene set A from \"/home/dhimmels/Dropbox/lung/followup/interactome/incomplete-interactome/disease-genes/all/lung neoplasms.txt\": 18 genes, network-diameter d_A = 2.0\r\n",
        "> gene set B from \"/home/dhimmels/Dropbox/lung/followup/interactome/gene-ontology/annotations/GO_0072593.txt\": 31 genes, network-diameter d_B = 2.12903225806\r\n",
        "> mean shortest distance between A & B: d_AB = 2.22448979592 \r\n",
        "> network separation of A & B:          s_AB = 0.159973666886\r\n",
        "\r\n",
        "> results have been saved to /home/dhimmels/Dropbox/lung/followup/interactome/separations/lung neoplasms--GO_0072593.txt\r\n"
       ]
      },
      {
       "output_type": "stream",
       "stream": "stdout",
       "text": [
        "\r\n",
        "> done loading network:\r\n"
       ]
      },
      {
       "output_type": "stream",
       "stream": "stdout",
       "text": [
        "> network contains 13460 nodes and 141296 links\r\n",
        "\r\n",
        "> done reading genes:\r\n",
        "> 24 genes found in /home/dhimmels/Dropbox/lung/followup/interactome/incomplete-interactome/disease-genes/all/lung neoplasms.txt\r\n",
        "> ignoring 6 genes that are not in the network\r\n",
        "> remaining number of genes: 18\r\n",
        "\r\n",
        "> done reading genes:\r\n",
        "> 34 genes found in /home/dhimmels/Dropbox/lung/followup/interactome/gene-ontology/annotations/GO_0000302.txt\r\n",
        "> ignoring 3 genes that are not in the network\r\n",
        "> remaining number of genes: 31\r\n"
       ]
      },
      {
       "output_type": "stream",
       "stream": "stdout",
       "text": [
        "\r\n",
        "> gene set A from \"/home/dhimmels/Dropbox/lung/followup/interactome/incomplete-interactome/disease-genes/all/lung neoplasms.txt\": 18 genes, network-diameter d_A = 2.0\r\n",
        "> gene set B from \"/home/dhimmels/Dropbox/lung/followup/interactome/gene-ontology/annotations/GO_0000302.txt\": 31 genes, network-diameter d_B = 1.41935483871\r\n",
        "> mean shortest distance between A & B: d_AB = 2.04081632653 \r\n",
        "> network separation of A & B:          s_AB = 0.331138907176\r\n",
        "\r\n",
        "> results have been saved to /home/dhimmels/Dropbox/lung/followup/interactome/separations/lung neoplasms--GO_0000302.txt\r\n"
       ]
      },
      {
       "output_type": "stream",
       "stream": "stdout",
       "text": [
        "\r\n",
        "> done loading network:\r\n"
       ]
      },
      {
       "output_type": "stream",
       "stream": "stdout",
       "text": [
        "> network contains 13460 nodes and 141296 links\r\n",
        "\r\n",
        "> done reading genes:\r\n",
        "> 24 genes found in /home/dhimmels/Dropbox/lung/followup/interactome/incomplete-interactome/disease-genes/all/lung neoplasms.txt\r\n",
        "> ignoring 6 genes that are not in the network\r\n",
        "> remaining number of genes: 18\r\n",
        "\r\n",
        "> done reading genes:\r\n",
        "> 17 genes found in /home/dhimmels/Dropbox/lung/followup/interactome/gene-ontology/annotations/GO_0034614.txt\r\n",
        "> ignoring 2 genes that are not in the network\r\n",
        "> remaining number of genes: 15\r\n"
       ]
      },
      {
       "output_type": "stream",
       "stream": "stdout",
       "text": [
        "\r\n",
        "> gene set A from \"/home/dhimmels/Dropbox/lung/followup/interactome/incomplete-interactome/disease-genes/all/lung neoplasms.txt\": 18 genes, network-diameter d_A = 2.0\r\n",
        "> gene set B from \"/home/dhimmels/Dropbox/lung/followup/interactome/gene-ontology/annotations/GO_0034614.txt\": 15 genes, network-diameter d_B = 1.92857142857\r\n",
        "> mean shortest distance between A & B: d_AB = 2.0 \r\n",
        "> network separation of A & B:          s_AB = 0.0357142857143\r\n",
        "\r\n",
        "> results have been saved to /home/dhimmels/Dropbox/lung/followup/interactome/separations/lung neoplasms--GO_0034614.txt\r\n"
       ]
      },
      {
       "output_type": "stream",
       "stream": "stdout",
       "text": [
        "\r\n",
        "> done loading network:\r\n"
       ]
      },
      {
       "output_type": "stream",
       "stream": "stdout",
       "text": [
        "> network contains 13460 nodes and 141296 links\r\n",
        "\r\n",
        "> done reading genes:\r\n",
        "> 24 genes found in /home/dhimmels/Dropbox/lung/followup/interactome/incomplete-interactome/disease-genes/all/lung neoplasms.txt\r\n",
        "> ignoring 6 genes that are not in the network\r\n",
        "> remaining number of genes: 18\r\n",
        "\r\n",
        "> done reading genes:\r\n",
        "> 20 genes found in /home/dhimmels/Dropbox/lung/followup/interactome/gene-ontology/annotations/GO_2000377.txt\r\n",
        "> ignoring 3 genes that are not in the network\r\n",
        "> remaining number of genes: 17\r\n"
       ]
      },
      {
       "output_type": "stream",
       "stream": "stdout",
       "text": [
        "\r\n",
        "> gene set A from \"/home/dhimmels/Dropbox/lung/followup/interactome/incomplete-interactome/disease-genes/all/lung neoplasms.txt\": 18 genes, network-diameter d_A = 2.0\r\n",
        "> gene set B from \"/home/dhimmels/Dropbox/lung/followup/interactome/gene-ontology/annotations/GO_2000377.txt\": 17 genes, network-diameter d_B = 1.82352941176\r\n",
        "> mean shortest distance between A & B: d_AB = 1.97142857143 \r\n",
        "> network separation of A & B:          s_AB = 0.0596638655462\r\n",
        "\r\n",
        "> results have been saved to /home/dhimmels/Dropbox/lung/followup/interactome/separations/lung neoplasms--GO_2000377.txt\r\n"
       ]
      },
      {
       "output_type": "stream",
       "stream": "stdout",
       "text": [
        "\r\n",
        "> done loading network:\r\n"
       ]
      },
      {
       "output_type": "stream",
       "stream": "stdout",
       "text": [
        "> network contains 13460 nodes and 141296 links\r\n"
       ]
      },
      {
       "output_type": "stream",
       "stream": "stdout",
       "text": [
        "\r\n",
        "> done reading genes:\r\n",
        "> 58 genes found in /home/dhimmels/Dropbox/lung/followup/interactome/incomplete-interactome/disease-genes/all/breast neoplasms.txt\r\n",
        "> ignoring 18 genes that are not in the network\r\n",
        "> remaining number of genes: 40\r\n",
        "\r\n",
        "> done reading genes:\r\n",
        "> 33 genes found in /home/dhimmels/Dropbox/lung/followup/interactome/gene-ontology/annotations/GO_0072593.txt\r\n",
        "> ignoring 2 genes that are not in the network\r\n",
        "> remaining number of genes: 31\r\n"
       ]
      },
      {
       "output_type": "stream",
       "stream": "stdout",
       "text": [
        "\r\n",
        "> gene set A from \"/home/dhimmels/Dropbox/lung/followup/interactome/incomplete-interactome/disease-genes/all/breast neoplasms.txt\": 40 genes, network-diameter d_A = 1.55\r\n",
        "> gene set B from \"/home/dhimmels/Dropbox/lung/followup/interactome/gene-ontology/annotations/GO_0072593.txt\": 31 genes, network-diameter d_B = 2.12903225806\r\n",
        "> mean shortest distance between A & B: d_AB = 2.2676056338 \r\n",
        "> network separation of A & B:          s_AB = 0.428089504771\r\n",
        "\r\n",
        "> results have been saved to /home/dhimmels/Dropbox/lung/followup/interactome/separations/breast neoplasms--GO_0072593.txt\r\n"
       ]
      },
      {
       "output_type": "stream",
       "stream": "stdout",
       "text": [
        "\r\n",
        "> done loading network:\r\n"
       ]
      },
      {
       "output_type": "stream",
       "stream": "stdout",
       "text": [
        "> network contains 13460 nodes and 141296 links\r\n",
        "\r\n",
        "> done reading genes:\r\n",
        "> 58 genes found in /home/dhimmels/Dropbox/lung/followup/interactome/incomplete-interactome/disease-genes/all/breast neoplasms.txt\r\n",
        "> ignoring 18 genes that are not in the network\r\n",
        "> remaining number of genes: 40\r\n",
        "\r\n",
        "> done reading genes:\r\n",
        "> 34 genes found in /home/dhimmels/Dropbox/lung/followup/interactome/gene-ontology/annotations/GO_0000302.txt\r\n",
        "> ignoring 3 genes that are not in the network\r\n",
        "> remaining number of genes: 31\r\n"
       ]
      },
      {
       "output_type": "stream",
       "stream": "stdout",
       "text": [
        "\r\n",
        "> gene set A from \"/home/dhimmels/Dropbox/lung/followup/interactome/incomplete-interactome/disease-genes/all/breast neoplasms.txt\": 40 genes, network-diameter d_A = 1.55\r\n",
        "> gene set B from \"/home/dhimmels/Dropbox/lung/followup/interactome/gene-ontology/annotations/GO_0000302.txt\": 31 genes, network-diameter d_B = 1.41935483871\r\n",
        "> mean shortest distance between A & B: d_AB = 2.21126760563 \r\n",
        "> network separation of A & B:          s_AB = 0.726590186279\r\n",
        "\r\n",
        "> results have been saved to /home/dhimmels/Dropbox/lung/followup/interactome/separations/breast neoplasms--GO_0000302.txt\r\n"
       ]
      },
      {
       "output_type": "stream",
       "stream": "stdout",
       "text": [
        "\r\n",
        "> done loading network:\r\n"
       ]
      },
      {
       "output_type": "stream",
       "stream": "stdout",
       "text": [
        "> network contains 13460 nodes and 141296 links\r\n",
        "\r\n",
        "> done reading genes:\r\n",
        "> 58 genes found in /home/dhimmels/Dropbox/lung/followup/interactome/incomplete-interactome/disease-genes/all/breast neoplasms.txt\r\n",
        "> ignoring 18 genes that are not in the network\r\n",
        "> remaining number of genes: 40\r\n",
        "\r\n",
        "> done reading genes:\r\n",
        "> 17 genes found in /home/dhimmels/Dropbox/lung/followup/interactome/gene-ontology/annotations/GO_0034614.txt\r\n",
        "> ignoring 2 genes that are not in the network\r\n",
        "> remaining number of genes: 15\r\n"
       ]
      },
      {
       "output_type": "stream",
       "stream": "stdout",
       "text": [
        "\r\n",
        "> gene set A from \"/home/dhimmels/Dropbox/lung/followup/interactome/incomplete-interactome/disease-genes/all/breast neoplasms.txt\": 40 genes, network-diameter d_A = 1.55\r\n",
        "> gene set B from \"/home/dhimmels/Dropbox/lung/followup/interactome/gene-ontology/annotations/GO_0034614.txt\": 15 genes, network-diameter d_B = 1.92857142857\r\n",
        "> mean shortest distance between A & B: d_AB = 2.14814814815 \r\n",
        "> network separation of A & B:          s_AB = 0.408862433862\r\n",
        "\r\n",
        "> results have been saved to /home/dhimmels/Dropbox/lung/followup/interactome/separations/breast neoplasms--GO_0034614.txt\r\n"
       ]
      },
      {
       "output_type": "stream",
       "stream": "stdout",
       "text": [
        "\r\n",
        "> done loading network:\r\n"
       ]
      },
      {
       "output_type": "stream",
       "stream": "stdout",
       "text": [
        "> network contains 13460 nodes and 141296 links\r\n",
        "\r\n",
        "> done reading genes:\r\n",
        "> 58 genes found in /home/dhimmels/Dropbox/lung/followup/interactome/incomplete-interactome/disease-genes/all/breast neoplasms.txt\r\n",
        "> ignoring 18 genes that are not in the network\r\n",
        "> remaining number of genes: 40\r\n",
        "\r\n",
        "> done reading genes:\r\n",
        "> 20 genes found in /home/dhimmels/Dropbox/lung/followup/interactome/gene-ontology/annotations/GO_2000377.txt\r\n",
        "> ignoring 3 genes that are not in the network\r\n",
        "> remaining number of genes: 17\r\n"
       ]
      },
      {
       "output_type": "stream",
       "stream": "stdout",
       "text": [
        "\r\n",
        "> gene set A from \"/home/dhimmels/Dropbox/lung/followup/interactome/incomplete-interactome/disease-genes/all/breast neoplasms.txt\": 40 genes, network-diameter d_A = 1.55\r\n",
        "> gene set B from \"/home/dhimmels/Dropbox/lung/followup/interactome/gene-ontology/annotations/GO_2000377.txt\": 17 genes, network-diameter d_B = 1.82352941176\r\n",
        "> mean shortest distance between A & B: d_AB = 2.12280701754 \r\n",
        "> network separation of A & B:          s_AB = 0.436042311662\r\n",
        "\r\n",
        "> results have been saved to /home/dhimmels/Dropbox/lung/followup/interactome/separations/breast neoplasms--GO_2000377.txt\r\n"
       ]
      },
      {
       "output_type": "stream",
       "stream": "stdout",
       "text": [
        "\r\n",
        "> done loading network:\r\n"
       ]
      },
      {
       "output_type": "stream",
       "stream": "stdout",
       "text": [
        "> network contains 13460 nodes and 141296 links\r\n",
        "\r\n",
        "> done reading genes:\r\n",
        "> 51 genes found in /home/dhimmels/Dropbox/lung/followup/interactome/incomplete-interactome/disease-genes/all/colorectal neoplasms.txt\r\n",
        "> ignoring 9 genes that are not in the network\r\n",
        "> remaining number of genes: 42\r\n",
        "\r\n",
        "> done reading genes:\r\n",
        "> 33 genes found in /home/dhimmels/Dropbox/lung/followup/interactome/gene-ontology/annotations/GO_0072593.txt\r\n",
        "> ignoring 2 genes that are not in the network\r\n",
        "> remaining number of genes: 31\r\n"
       ]
      },
      {
       "output_type": "stream",
       "stream": "stdout",
       "text": [
        "\r\n",
        "> gene set A from \"/home/dhimmels/Dropbox/lung/followup/interactome/incomplete-interactome/disease-genes/all/colorectal neoplasms.txt\": 42 genes, network-diameter d_A = 1.47619047619\r\n",
        "> gene set B from \"/home/dhimmels/Dropbox/lung/followup/interactome/gene-ontology/annotations/GO_0072593.txt\": 31 genes, network-diameter d_B = 2.12903225806\r\n",
        "> mean shortest distance between A & B: d_AB = 2.15068493151 \r\n",
        "> network separation of A & B:          s_AB = 0.348073564379\r\n",
        "\r\n",
        "> results have been saved to /home/dhimmels/Dropbox/lung/followup/interactome/separations/colorectal neoplasms--GO_0072593.txt\r\n"
       ]
      },
      {
       "output_type": "stream",
       "stream": "stdout",
       "text": [
        "\r\n",
        "> done loading network:\r\n"
       ]
      },
      {
       "output_type": "stream",
       "stream": "stdout",
       "text": [
        "> network contains 13460 nodes and 141296 links\r\n"
       ]
      },
      {
       "output_type": "stream",
       "stream": "stdout",
       "text": [
        "\r\n",
        "> done reading genes:\r\n",
        "> 51 genes found in /home/dhimmels/Dropbox/lung/followup/interactome/incomplete-interactome/disease-genes/all/colorectal neoplasms.txt\r\n",
        "> ignoring 9 genes that are not in the network\r\n",
        "> remaining number of genes: 42\r\n",
        "\r\n",
        "> done reading genes:\r\n",
        "> 34 genes found in /home/dhimmels/Dropbox/lung/followup/interactome/gene-ontology/annotations/GO_0000302.txt\r\n",
        "> ignoring 3 genes that are not in the network\r\n",
        "> remaining number of genes: 31\r\n"
       ]
      },
      {
       "output_type": "stream",
       "stream": "stdout",
       "text": [
        "\r\n",
        "> gene set A from \"/home/dhimmels/Dropbox/lung/followup/interactome/incomplete-interactome/disease-genes/all/colorectal neoplasms.txt\": 42 genes, network-diameter d_A = 1.47619047619\r\n",
        "> gene set B from \"/home/dhimmels/Dropbox/lung/followup/interactome/gene-ontology/annotations/GO_0000302.txt\": 31 genes, network-diameter d_B = 1.41935483871\r\n",
        "> mean shortest distance between A & B: d_AB = 2.08219178082 \r\n",
        "> network separation of A & B:          s_AB = 0.634419123372\r\n",
        "\r\n",
        "> results have been saved to /home/dhimmels/Dropbox/lung/followup/interactome/separations/colorectal neoplasms--GO_0000302.txt\r\n"
       ]
      },
      {
       "output_type": "stream",
       "stream": "stdout",
       "text": [
        "\r\n",
        "> done loading network:\r\n"
       ]
      },
      {
       "output_type": "stream",
       "stream": "stdout",
       "text": [
        "> network contains 13460 nodes and 141296 links\r\n",
        "\r\n",
        "> done reading genes:\r\n",
        "> 51 genes found in /home/dhimmels/Dropbox/lung/followup/interactome/incomplete-interactome/disease-genes/all/colorectal neoplasms.txt\r\n",
        "> ignoring 9 genes that are not in the network\r\n",
        "> remaining number of genes: 42\r\n",
        "\r\n",
        "> done reading genes:\r\n",
        "> 17 genes found in /home/dhimmels/Dropbox/lung/followup/interactome/gene-ontology/annotations/GO_0034614.txt\r\n",
        "> ignoring 2 genes that are not in the network\r\n",
        "> remaining number of genes: 15\r\n"
       ]
      },
      {
       "output_type": "stream",
       "stream": "stdout",
       "text": [
        "\r\n",
        "> gene set A from \"/home/dhimmels/Dropbox/lung/followup/interactome/incomplete-interactome/disease-genes/all/colorectal neoplasms.txt\": 42 genes, network-diameter d_A = 1.47619047619\r\n",
        "> gene set B from \"/home/dhimmels/Dropbox/lung/followup/interactome/gene-ontology/annotations/GO_0034614.txt\": 15 genes, network-diameter d_B = 1.92857142857\r\n",
        "> mean shortest distance between A & B: d_AB = 1.96428571429 \r\n",
        "> network separation of A & B:          s_AB = 0.261904761905\r\n",
        "\r\n",
        "> results have been saved to /home/dhimmels/Dropbox/lung/followup/interactome/separations/colorectal neoplasms--GO_0034614.txt\r\n"
       ]
      },
      {
       "output_type": "stream",
       "stream": "stdout",
       "text": [
        "\r\n",
        "> done loading network:\r\n"
       ]
      },
      {
       "output_type": "stream",
       "stream": "stdout",
       "text": [
        "> network contains 13460 nodes and 141296 links\r\n",
        "\r\n",
        "> done reading genes:\r\n",
        "> 51 genes found in /home/dhimmels/Dropbox/lung/followup/interactome/incomplete-interactome/disease-genes/all/colorectal neoplasms.txt\r\n",
        "> ignoring 9 genes that are not in the network\r\n",
        "> remaining number of genes: 42\r\n",
        "\r\n",
        "> done reading genes:\r\n",
        "> 20 genes found in /home/dhimmels/Dropbox/lung/followup/interactome/gene-ontology/annotations/GO_2000377.txt\r\n",
        "> ignoring 3 genes that are not in the network\r\n",
        "> remaining number of genes: 17\r\n"
       ]
      },
      {
       "output_type": "stream",
       "stream": "stdout",
       "text": [
        "\r\n",
        "> gene set A from \"/home/dhimmels/Dropbox/lung/followup/interactome/incomplete-interactome/disease-genes/all/colorectal neoplasms.txt\": 42 genes, network-diameter d_A = 1.47619047619\r\n",
        "> gene set B from \"/home/dhimmels/Dropbox/lung/followup/interactome/gene-ontology/annotations/GO_2000377.txt\": 17 genes, network-diameter d_B = 1.82352941176\r\n",
        "> mean shortest distance between A & B: d_AB = 1.93220338983 \r\n",
        "> network separation of A & B:          s_AB = 0.282343445853\r\n",
        "\r\n",
        "> results have been saved to /home/dhimmels/Dropbox/lung/followup/interactome/separations/colorectal neoplasms--GO_2000377.txt\r\n"
       ]
      },
      {
       "output_type": "stream",
       "stream": "stdout",
       "text": [
        "\r\n",
        "> done loading network:\r\n"
       ]
      },
      {
       "output_type": "stream",
       "stream": "stdout",
       "text": [
        "> network contains 13460 nodes and 141296 links\r\n",
        "\r\n",
        "> done reading genes:\r\n",
        "> 83 genes found in /home/dhimmels/Dropbox/lung/followup/interactome/incomplete-interactome/disease-genes/all/prostatic neoplasms.txt\r\n",
        "> ignoring 22 genes that are not in the network\r\n",
        "> remaining number of genes: 61\r\n",
        "\r\n",
        "> done reading genes:\r\n",
        "> 33 genes found in /home/dhimmels/Dropbox/lung/followup/interactome/gene-ontology/annotations/GO_0072593.txt\r\n",
        "> ignoring 2 genes that are not in the network\r\n",
        "> remaining number of genes: 31\r\n"
       ]
      },
      {
       "output_type": "stream",
       "stream": "stdout",
       "text": [
        "\r\n",
        "> gene set A from \"/home/dhimmels/Dropbox/lung/followup/interactome/incomplete-interactome/disease-genes/all/prostatic neoplasms.txt\": 61 genes, network-diameter d_A = 1.96721311475\r\n",
        "> gene set B from \"/home/dhimmels/Dropbox/lung/followup/interactome/gene-ontology/annotations/GO_0072593.txt\": 31 genes, network-diameter d_B = 2.12903225806\r\n",
        "> mean shortest distance between A & B: d_AB = 2.30434782609 \r\n",
        "> network separation of A & B:          s_AB = 0.256225139678\r\n",
        "\r\n",
        "> results have been saved to /home/dhimmels/Dropbox/lung/followup/interactome/separations/prostatic neoplasms--GO_0072593.txt\r\n"
       ]
      },
      {
       "output_type": "stream",
       "stream": "stdout",
       "text": [
        "\r\n",
        "> done loading network:\r\n"
       ]
      },
      {
       "output_type": "stream",
       "stream": "stdout",
       "text": [
        "> network contains 13460 nodes and 141296 links\r\n"
       ]
      },
      {
       "output_type": "stream",
       "stream": "stdout",
       "text": [
        "\r\n",
        "> done reading genes:\r\n",
        "> 83 genes found in /home/dhimmels/Dropbox/lung/followup/interactome/incomplete-interactome/disease-genes/all/prostatic neoplasms.txt\r\n",
        "> ignoring 22 genes that are not in the network\r\n",
        "> remaining number of genes: 61\r\n",
        "\r\n",
        "> done reading genes:\r\n",
        "> 34 genes found in /home/dhimmels/Dropbox/lung/followup/interactome/gene-ontology/annotations/GO_0000302.txt\r\n",
        "> ignoring 3 genes that are not in the network\r\n",
        "> remaining number of genes: 31\r\n"
       ]
      },
      {
       "output_type": "stream",
       "stream": "stdout",
       "text": [
        "\r\n",
        "> gene set A from \"/home/dhimmels/Dropbox/lung/followup/interactome/incomplete-interactome/disease-genes/all/prostatic neoplasms.txt\": 61 genes, network-diameter d_A = 1.96721311475\r\n",
        "> gene set B from \"/home/dhimmels/Dropbox/lung/followup/interactome/gene-ontology/annotations/GO_0000302.txt\": 31 genes, network-diameter d_B = 1.41935483871\r\n",
        "> mean shortest distance between A & B: d_AB = 2.22826086957 \r\n",
        "> network separation of A & B:          s_AB = 0.534976892833\r\n",
        "\r\n",
        "> results have been saved to /home/dhimmels/Dropbox/lung/followup/interactome/separations/prostatic neoplasms--GO_0000302.txt\r\n"
       ]
      },
      {
       "output_type": "stream",
       "stream": "stdout",
       "text": [
        "\r\n",
        "> done loading network:\r\n"
       ]
      },
      {
       "output_type": "stream",
       "stream": "stdout",
       "text": [
        "> network contains 13460 nodes and 141296 links\r\n",
        "\r\n",
        "> done reading genes:\r\n",
        "> 83 genes found in /home/dhimmels/Dropbox/lung/followup/interactome/incomplete-interactome/disease-genes/all/prostatic neoplasms.txt\r\n",
        "> ignoring 22 genes that are not in the network\r\n",
        "> remaining number of genes: 61\r\n",
        "\r\n",
        "> done reading genes:\r\n",
        "> 17 genes found in /home/dhimmels/Dropbox/lung/followup/interactome/gene-ontology/annotations/GO_0034614.txt\r\n",
        "> ignoring 2 genes that are not in the network\r\n",
        "> remaining number of genes: 15\r\n"
       ]
      },
      {
       "output_type": "stream",
       "stream": "stdout",
       "text": [
        "\r\n",
        "> gene set A from \"/home/dhimmels/Dropbox/lung/followup/interactome/incomplete-interactome/disease-genes/all/prostatic neoplasms.txt\": 61 genes, network-diameter d_A = 1.96721311475\r\n",
        "> gene set B from \"/home/dhimmels/Dropbox/lung/followup/interactome/gene-ontology/annotations/GO_0034614.txt\": 15 genes, network-diameter d_B = 1.92857142857\r\n",
        "> mean shortest distance between A & B: d_AB = 2.2 \r\n",
        "> network separation of A & B:          s_AB = 0.252107728337\r\n",
        "\r\n"
       ]
      },
      {
       "output_type": "stream",
       "stream": "stdout",
       "text": [
        "> results have been saved to /home/dhimmels/Dropbox/lung/followup/interactome/separations/prostatic neoplasms--GO_0034614.txt\r\n"
       ]
      },
      {
       "output_type": "stream",
       "stream": "stdout",
       "text": [
        "\r\n",
        "> done loading network:\r\n"
       ]
      },
      {
       "output_type": "stream",
       "stream": "stdout",
       "text": [
        "> network contains 13460 nodes and 141296 links\r\n",
        "\r\n",
        "> done reading genes:\r\n",
        "> 83 genes found in /home/dhimmels/Dropbox/lung/followup/interactome/incomplete-interactome/disease-genes/all/prostatic neoplasms.txt\r\n",
        "> ignoring 22 genes that are not in the network\r\n",
        "> remaining number of genes: 61\r\n",
        "\r\n",
        "> done reading genes:\r\n",
        "> 20 genes found in /home/dhimmels/Dropbox/lung/followup/interactome/gene-ontology/annotations/GO_2000377.txt\r\n",
        "> ignoring 3 genes that are not in the network\r\n",
        "> remaining number of genes: 17\r\n"
       ]
      },
      {
       "output_type": "stream",
       "stream": "stdout",
       "text": [
        "\r\n",
        "> gene set A from \"/home/dhimmels/Dropbox/lung/followup/interactome/incomplete-interactome/disease-genes/all/prostatic neoplasms.txt\": 61 genes, network-diameter d_A = 1.96721311475\r\n",
        "> gene set B from \"/home/dhimmels/Dropbox/lung/followup/interactome/gene-ontology/annotations/GO_2000377.txt\": 17 genes, network-diameter d_B = 1.82352941176\r\n",
        "> mean shortest distance between A & B: d_AB = 2.24358974359 \r\n",
        "> network separation of A & B:          s_AB = 0.34821848033\r\n",
        "\r\n",
        "> results have been saved to /home/dhimmels/Dropbox/lung/followup/interactome/separations/prostatic neoplasms--GO_2000377.txt\r\n"
       ]
      }
     ],
     "prompt_number": 139
    },
    {
     "cell_type": "code",
     "collapsed": false,
     "input": [
      "def parse_separation_output(path):\n",
      "    with open(path) as read_file:\n",
      "        rows = list(read_file)\n",
      "    \n",
      "    out = dict()\n",
      "\n",
      "    # diameter of A\n",
      "    match = re.search(r'([0-9]+) genes', rows[1])\n",
      "    out['size_A'] = int(match.groups()[0])\n",
      "    match = re.search(r'd_A = ([0-9.]+)', rows[1])\n",
      "    out['diameter_A'] = float(match.groups()[0])\n",
      "\n",
      "    # diameter of B\n",
      "    match = re.search(r'([0-9]+) genes', rows[2])\n",
      "    out['size_B'] = int(match.groups()[0])\n",
      "    match = re.search(r'd_B = ([0-9.]+)', rows[2])\n",
      "    out['diameter_B'] = float(match.groups()[0])\n",
      "\n",
      "    # mean shortest distance between A & B\n",
      "    match = re.search(r'd_AB = ([0-9.]+)', rows[3])\n",
      "    out['diameter_AB'] = float(match.groups()[0])\n",
      "\n",
      "    # network separation of A & B\n",
      "    match = re.search(r's_AB = ([0-9.]+)', rows[4])\n",
      "    out['separation_AB'] = float(match.groups()[0])\n",
      "    return(out)"
     ],
     "language": "python",
     "metadata": {},
     "outputs": [],
     "prompt_number": 125
    },
    {
     "cell_type": "code",
     "collapsed": false,
     "input": [
      "path = '/home/dhimmels/Dropbox/lung/followup/interactome/separations/lung neoplasms--GO_0000302.txt'\n",
      "parse_separation_output(path)"
     ],
     "language": "python",
     "metadata": {},
     "outputs": [
      {
       "metadata": {},
       "output_type": "pyout",
       "prompt_number": 126,
       "text": [
        "{'diameter_A': 2.0,\n",
        " 'diameter_AB': 2.04081632653,\n",
        " 'diameter_B': 1.41935483871,\n",
        " 'separation_AB': 0.331138907176,\n",
        " 'size_A': 18,\n",
        " 'size_B': 31}"
       ]
      }
     ],
     "prompt_number": 126
    },
    {
     "cell_type": "code",
     "collapsed": false,
     "input": [
      "%load_ext rmagic"
     ],
     "language": "python",
     "metadata": {},
     "outputs": [],
     "prompt_number": 140
    },
    {
     "cell_type": "code",
     "collapsed": false,
     "input": [
      "%%R \n",
      "\n",
      "library(dplyr)\n",
      "library(ggplot2)\n",
      "\n",
      "project.dir = '/home/dhimmels/Dropbox/lung/followup/interactome/'\n",
      "\n",
      "result.df <- file.path(project.dir, 'disease-go-pairs.tsv') %>%\n",
      "  read.delim()\n",
      "\n",
      "result.df %>% head\n",
      "result.df %>%\n",
      "  ggplot(aes(go_id, separation_AB)) +\n",
      "  geom_point(aes(shape=disease), size=3) +\n",
      "  theme_bw()"
     ],
     "language": "python",
     "metadata": {},
     "outputs": [
      {
       "metadata": {},
       "output_type": "display_data",
       "png": "[encoded data removed]"
      }
     ],
     "prompt_number": 145
    },
    {
     "cell_type": "code",
     "collapsed": false,
     "input": [],
     "language": "python",
     "metadata": {},
     "outputs": []
    }
   ],
   "metadata": {}
  }
 ]
}