{
 "cells": [
  {
   "cell_type": "code",
   "execution_count": 1,
   "metadata": {
    "collapsed": false
   },
   "outputs": [],
   "source": [
    "import os\n",
    "import gzip\n",
    "import csv\n",
    "\n",
    "import rpy2.ipython\n",
    "import goatools.obo_parser"
   ]
  },
  {
   "cell_type": "code",
   "execution_count": 2,
   "metadata": {
    "collapsed": false
   },
   "outputs": [
    {
     "name": "stderr",
     "output_type": "stream",
     "text": [
      "load obo file /home/dhimmels/Dropbox/lung/followup/interactome/gene-ontology/go-basic.obo\n",
      "44472 nodes imported\n"
     ]
    }
   ],
   "source": [
    "project_dir = '/home/dhimmels/Dropbox/lung/followup/interactome/'\n",
    "go_path = os.path.join(project_dir, 'gene-ontology', 'go-basic.obo')\n",
    "go_dag = goatools.obo_parser.GODag(obo_file = go_path)"
   ]
  },
  {
   "cell_type": "code",
   "execution_count": 3,
   "metadata": {
    "collapsed": false
   },
   "outputs": [],
   "source": [
    "def sort_dict_values(dictionary):\n",
    "    for key, value in dictionary.items():\n",
    "        dictionary[key] = sorted(value)"
   ]
  },
  {
   "cell_type": "code",
   "execution_count": 4,
   "metadata": {
    "collapsed": false
   },
   "outputs": [],
   "source": [
    "# Read Entrez Gene GO annotations\n",
    "# Download at ftp://ftp.ncbi.nih.gov/gene/DATA/gene2go.gz\n",
    "gene2go_path = os.path.join(project_dir, 'gene-ontology', 'gene2go.gz')\n",
    "gene2go_fields = 'tax_id', 'GeneID', 'GO_ID', 'Evidence', 'Qualifier', 'GO_term', 'PubMed', 'Category'\n",
    "with gzip.open(gene2go_path) as read_file:\n",
    "    reader = csv.DictReader(read_file, delimiter='\\t', fieldnames = gene2go_fields)\n",
    "    gene2go = [row for row in reader if row['tax_id'] == '9606']"
   ]
  },
  {
   "cell_type": "code",
   "execution_count": 5,
   "metadata": {
    "collapsed": false
   },
   "outputs": [
    {
     "data": {
      "text/plain": [
       "15202"
      ]
     },
     "execution_count": 5,
     "metadata": {},
     "output_type": "execute_result"
    }
   ],
   "source": [
    "# create a term --> genes (unpropogated) dictionary\n",
    "annotations = dict()\n",
    "for annotation in gene2go:\n",
    "    term = annotation['GO_ID']\n",
    "    gene_id = int(annotation['GeneID'])\n",
    "    annotations.setdefault(term, set()).add(gene_id)\n",
    "sort_dict_values(annotations)\n",
    "len(annotations)"
   ]
  },
  {
   "cell_type": "code",
   "execution_count": 6,
   "metadata": {
    "collapsed": false
   },
   "outputs": [
    {
     "data": {
      "text/plain": [
       "18378"
      ]
     },
     "execution_count": 6,
     "metadata": {},
     "output_type": "execute_result"
    }
   ],
   "source": [
    "# create a gene --> terms (unpropogated) dictionary\n",
    "gene_to_terms = dict()\n",
    "for term, genes in annotations.iteritems():\n",
    "    for gene in genes:\n",
    "        gene_to_terms.setdefault(gene, set()).add(term)\n",
    "len(gene_to_terms)"
   ]
  },
  {
   "cell_type": "code",
   "execution_count": 7,
   "metadata": {
    "collapsed": false
   },
   "outputs": [],
   "source": [
    "# update gene_to_terms with propagated terms\n",
    "go_dag.update_association(gene_to_terms)"
   ]
  },
  {
   "cell_type": "code",
   "execution_count": 8,
   "metadata": {
    "collapsed": false
   },
   "outputs": [],
   "source": [
    "annotations_prop = dict()\n",
    "for gene, terms in gene_to_terms.iteritems():\n",
    "    for term in terms:\n",
    "        annotations_prop.setdefault(term, set()).add(gene)\n",
    "sort_dict_values(annotations_prop)"
   ]
  },
  {
   "cell_type": "code",
   "execution_count": 9,
   "metadata": {
    "collapsed": false
   },
   "outputs": [],
   "source": [
    "def write_annotations(annotations, path):\n",
    "    \"\"\"Write annotations (a dict of term --> genes)\"\"\"\n",
    "    write_file = open(path, 'w')\n",
    "    writer = csv.writer(write_file, delimiter = '\\t')\n",
    "    writer.writerow(['go_id', 'go_term', 'go_domain', 'size', 'genes'])\n",
    "    for term, genes in sorted(annotations.items()):\n",
    "        writer.writerow([term, go_dag[term].name, go_dag[term].namespace, len(genes), ';'.join(map(str, genes))])\n",
    "    write_file.close()"
   ]
  },
  {
   "cell_type": "code",
   "execution_count": 10,
   "metadata": {
    "collapsed": false
   },
   "outputs": [],
   "source": [
    "path = os.path.join(project_dir, 'gene-ontology', 'human-annotations-unprop.tsv')\n",
    "write_annotations(annotations, path)\n",
    "\n",
    "path = os.path.join(project_dir, 'gene-ontology', 'human-annotations-prop.tsv')\n",
    "write_annotations(annotations_prop, path)"
   ]
  },
  {
   "cell_type": "code",
   "execution_count": 14,
   "metadata": {
    "collapsed": true
   },
   "outputs": [],
   "source": [
    "%load_ext rpy2.ipython"
   ]
  },
  {
   "cell_type": "code",
   "execution_count": 16,
   "metadata": {
    "collapsed": false
   },
   "outputs": [
    {
     "data": {
      "image/png": "[encoded data removed]"
     },
     "metadata": {},
     "output_type": "display_data"
    }
   ],
   "source": [
    "%%R -w 800 -h 480\n",
    "\n",
    "library(dplyr)\n",
    "library(ggplot2)\n",
    "\n",
    "options(stringsAsFactors = FALSE)\n",
    "\n",
    "project.dir <- '/home/dhimmels/Dropbox/lung/followup/interactome/'\n",
    "\n",
    "annotation.df <- dplyr::bind_rows(\n",
    "  file.path(project.dir, 'gene-ontology', 'human-annotations-unprop.tsv') %>%\n",
    "    read.delim() %>%\n",
    "    dplyr::mutate(propagation = 'unpropagated'),\n",
    "  file.path(project.dir, 'gene-ontology', 'human-annotations-prop.tsv') %>%\n",
    "    read.delim() %>%\n",
    "    dplyr::mutate(propagation = 'propagated')) %>%\n",
    "  dplyr::mutate(propagation = factor(propagation, levels=c('unpropagated', 'propagated')))\n",
    "\n",
    "gg <- annotation.df %>%\n",
    "  ggplot(aes(x = size, fill = propagation)) +\n",
    "  geom_density(alpha = 0.42, color = NA, adjust = 2) +\n",
    "  scale_x_log10(breaks = c(1, 2, 3, 5, 10, 25, 100, 1000, 5000)) +\n",
    "  scale_y_sqrt() +\n",
    "  theme_bw() +\n",
    "  scale_fill_manual(name = '', values = c(\"#FF0000\", \"#0000FF\")) +\n",
    "  theme(legend.justification = c(1, 1), legend.position = c(1, 1)) +\n",
    "  xlab('Number of annotated genes per GO term') + ylab('Density')\n",
    "\n",
    "file.path(project.dir, 'gene-ontology', 'annotations.svg') %>%\n",
    "  ggsave(width = 5, height = 4)\n",
    "\n",
    "print(gg)"
   ]
  }
 ],
 "metadata": {
  "kernelspec": {
   "display_name": "Python 2",
   "language": "python",
   "name": "python2"
  },
  "language_info": {
   "codemirror_mode": {
    "name": "ipython",
    "version": 2
   },
   "file_extension": ".py",
   "mimetype": "text/x-python",
   "name": "python",
   "nbconvert_exporter": "python",
   "pygments_lexer": "ipython2",
   "version": "2.7.6"
  }
 },
 "nbformat": 4,
 "nbformat_minor": 0
}
